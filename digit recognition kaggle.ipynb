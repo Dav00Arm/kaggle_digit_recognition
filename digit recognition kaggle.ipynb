{
 "cells": [
  {
   "cell_type": "code",
   "execution_count": null,
   "id": "44fd2896",
   "metadata": {},
   "outputs": [],
   "source": [
    "import keras\n",
    "import numpy as np\n",
    "import pandas as pd\n",
    "import seaborn as sns\n",
    "import tensorflow as tf\n",
    "import matplotlib.pyplot as plt\n",
    "from sklearn.metrics import accuracy_score\n",
    "from sklearn.model_selection import train_test_split\n",
    "%matplotlib inline"
   ]
  },
  {
   "cell_type": "markdown",
   "id": "a1123772",
   "metadata": {},
   "source": [
    "# Import Data"
   ]
  },
  {
   "cell_type": "code",
   "execution_count": null,
   "id": "dda9bbf1",
   "metadata": {},
   "outputs": [],
   "source": [
    "data = pd.read_csv('train.csv').astype('int32')\n",
    "test_data = pd.read_csv('test.csv')/255.0\n",
    "y = data['label']\n",
    "X = data.drop(['label'], axis=1)/255.0\n",
    "X.shape\n",
    "# X.head()"
   ]
  },
  {
   "cell_type": "code",
   "execution_count": null,
   "id": "5500e63f",
   "metadata": {},
   "outputs": [],
   "source": [
    "X_train, X_test, y_train, y_test = train_test_split(X, y, test_size=0.2, random_state=1)\n",
    "print(X_train.shape, y_train.shape)\n",
    "print(X_test.shape, y_test.shape)"
   ]
  },
  {
   "cell_type": "code",
   "execution_count": null,
   "id": "1f23de70",
   "metadata": {},
   "outputs": [],
   "source": [
    "# function to plot a digit given index\n",
    "def plot_digit(index):\n",
    "    num1 = X[X.index == index]\n",
    "    num1_list = list(num1.values)[0].reshape(28,28)\n",
    "    print(label[index])\n",
    "    plt.imshow(num1_list)\n",
    "    \n",
    "# Plor confusion matrix\n",
    "def plot_confusion_matrix(predicted, labels=y_test):\n",
    "    confusion_matrix = tf.math.confusion_matrix(labels=y_test, predictions=predicted)\n",
    "    plt.figure(figsize=(11,10))\n",
    "    sns.heatmap(confusion_matrix,annot=True, fmt='d')\n",
    "    plt.xlabel('Predicted')\n",
    "    plt.ylabel('Truth')\n",
    "    \n",
    "# Finds the best K for KNN classifier\n",
    "def find_best_k(k=10):\n",
    "    acc_list = []\n",
    "    for n in range(1, k+1):\n",
    "        KNN = KNeighborsClassifier(n_neighbors=n)\n",
    "        KNN.fit(X_train, y_train)\n",
    "        KNN_predict = KNN.predict(X_test)\n",
    "        acc_list.append(round(accuracy_score(KNN_predict, y_test),3))\n",
    "    \n",
    "    best = np.argmax(acc_list)+1\n",
    "    plt.figure(figsize=(10, 9))\n",
    "    plt.plot(range(1,k+1), acc_list, '-og')\n",
    "    print(f'best K for KNN is: {best}')\n",
    "    return best\n",
    "\n",
    "\n",
    "# Prints the accuracy\n",
    "def accuracy(model_name):\n",
    "    print(f'Accuracy of {model_name} is: {round(acc*100, 3)}%')"
   ]
  },
  {
   "cell_type": "markdown",
   "id": "fa71b118",
   "metadata": {},
   "source": [
    "# Simple Neural Network Solution"
   ]
  },
  {
   "cell_type": "code",
   "execution_count": null,
   "id": "851df077",
   "metadata": {},
   "outputs": [],
   "source": [
    "from tensorflow.keras import Sequential\n",
    "from tensorflow.keras.layers import Dense, Dropout, Reshape"
   ]
  },
  {
   "cell_type": "code",
   "execution_count": null,
   "id": "53dbcf80",
   "metadata": {},
   "outputs": [],
   "source": [
    "NN = Sequential([\n",
    "    Dense(784, input_shape=(784,), activation='relu'),\n",
    "    Dense(512, activation='relu'),\n",
    "    Dense(256, activation='relu'),\n",
    "    Dense(64, activation='relu'),\n",
    "    Dense(32, activation='relu'),\n",
    "    Dense(10, activation='softmax')\n",
    "])"
   ]
  },
  {
   "cell_type": "code",
   "execution_count": null,
   "id": "acf6eb36",
   "metadata": {},
   "outputs": [],
   "source": [
    "NN.compile(optimizer='adam', loss='sparse_categorical_crossentropy', metrics=['accuracy'])\n",
    "NN.fit(X_train, y_train,\n",
    "          batch_size=60,\n",
    "         epochs=20)\n",
    "acc = NN.evaluate(X_test, y_test)[1]\n",
    "accuracy('NN')"
   ]
  },
  {
   "cell_type": "code",
   "execution_count": null,
   "id": "5f94c7ba",
   "metadata": {
    "scrolled": true
   },
   "outputs": [],
   "source": [
    "y_pred=NN.predict(X_test) # 98.242% accuracy on test_data\n",
    "NN_predict = [np.argmax(i) for i in y_pred]\n",
    "plot_confusion_matrix(NN_predict)"
   ]
  },
  {
   "cell_type": "markdown",
   "id": "a788a8cf",
   "metadata": {},
   "source": [
    "# Convolutional Neural Network Solution"
   ]
  },
  {
   "cell_type": "code",
   "execution_count": null,
   "id": "eb8d3f68",
   "metadata": {},
   "outputs": [],
   "source": [
    "from keras.layers.convolutional import Conv2D\n",
    "from keras import layers\n",
    "\n",
    "CNN = keras.Sequential()\n",
    "\n",
    "CNN.add(Reshape((28,28, 1), input_shape=(784,)))\n",
    "CNN.add(layers.Conv2D(32,(3,3), activation='relu', input_shape = (28,28,1)))\n",
    "CNN.add(layers.MaxPooling2D((2,2)))\n",
    "CNN.add(layers.Conv2D(64,(3,3), activation='relu'))\n",
    "CNN.add(layers.MaxPooling2D((2,2)))\n",
    "CNN.add(layers.Conv2D(64,(3,3), activation='relu'))\n",
    "CNN.add(layers.Flatten())\n",
    "CNN.add(layers.Dense(64,activation = 'relu'))\n",
    "CNN.add(layers.Dense(10, activation= 'softmax'))"
   ]
  },
  {
   "cell_type": "code",
   "execution_count": null,
   "id": "c20847b9",
   "metadata": {},
   "outputs": [],
   "source": [
    "CNN.compile(optimizer='adam', loss='sparse_categorical_crossentropy', metrics=['accuracy'])\n",
    "CNN.fit(X, y, batch_size=40, epochs=15) # The whole dataset"
   ]
  },
  {
   "cell_type": "code",
   "execution_count": null,
   "id": "7ea1fa7a",
   "metadata": {},
   "outputs": [],
   "source": [
    "CNN_predict = CNN.predict(test_data) # 98.964% accuracy on test_data\n",
    "CNN_predict = [np.argmax(i) for i in CNN_predict]"
   ]
  },
  {
   "cell_type": "markdown",
   "id": "bbf03245",
   "metadata": {},
   "source": [
    "# SVC Solution"
   ]
  },
  {
   "cell_type": "code",
   "execution_count": null,
   "id": "d7728c97",
   "metadata": {},
   "outputs": [],
   "source": [
    "from sklearn.svm import SVC"
   ]
  },
  {
   "cell_type": "code",
   "execution_count": null,
   "id": "3a44e2f0",
   "metadata": {},
   "outputs": [],
   "source": [
    "svm = SVC()\n",
    "svm.fit(X_train, y_train)"
   ]
  },
  {
   "cell_type": "code",
   "execution_count": null,
   "id": "068e18c0",
   "metadata": {},
   "outputs": [],
   "source": [
    "svm_predict = svm.predict(X_test)\n",
    "acc = accuracy_score(y_test, svm_predict)\n",
    "accuracy('SVC')"
   ]
  },
  {
   "cell_type": "code",
   "execution_count": null,
   "id": "71208446",
   "metadata": {},
   "outputs": [],
   "source": [
    "# plot_confusion_matrix(svm_predict)"
   ]
  },
  {
   "cell_type": "markdown",
   "id": "26a06594",
   "metadata": {},
   "source": [
    "# Decision Tree Classifier Solution"
   ]
  },
  {
   "cell_type": "code",
   "execution_count": null,
   "id": "d9833c2d",
   "metadata": {},
   "outputs": [],
   "source": [
    "from sklearn.tree import DecisionTreeClassifier"
   ]
  },
  {
   "cell_type": "code",
   "execution_count": null,
   "id": "8292d9d4",
   "metadata": {},
   "outputs": [],
   "source": [
    "DTC = DecisionTreeClassifier()\n",
    "DTC.fit(X_train, y_train)"
   ]
  },
  {
   "cell_type": "code",
   "execution_count": null,
   "id": "d0caa314",
   "metadata": {},
   "outputs": [],
   "source": [
    "DTC_predict = DTC.predict(X_test)\n",
    "acc = accuracy_score(DTC_predict, y_test)\n",
    "accuracy('DTC')"
   ]
  },
  {
   "cell_type": "code",
   "execution_count": null,
   "id": "64139d32",
   "metadata": {},
   "outputs": [],
   "source": [
    "# plot_confusion_matrix(DTC_predict)"
   ]
  },
  {
   "cell_type": "markdown",
   "id": "cb7d1351",
   "metadata": {},
   "source": [
    "# Random Forest Classifier Solution"
   ]
  },
  {
   "cell_type": "code",
   "execution_count": null,
   "id": "585092a5",
   "metadata": {},
   "outputs": [],
   "source": [
    "from sklearn.ensemble import RandomForestClassifier"
   ]
  },
  {
   "cell_type": "code",
   "execution_count": null,
   "id": "e034c1d6",
   "metadata": {},
   "outputs": [],
   "source": [
    "RFC = RandomForestClassifier(n_estimators=300)\n",
    "RFC.fit(X_train, y_train)"
   ]
  },
  {
   "cell_type": "code",
   "execution_count": null,
   "id": "66fb6c80",
   "metadata": {},
   "outputs": [],
   "source": [
    "RFC_predict = RFC.predict(X_test)\n",
    "acc = accuracy_score(RFC_predict, y_test)\n",
    "accuracy('RFC')"
   ]
  },
  {
   "cell_type": "code",
   "execution_count": null,
   "id": "96db6e39",
   "metadata": {},
   "outputs": [],
   "source": [
    "# plot_confusion_matrix(RFC_predict)"
   ]
  },
  {
   "cell_type": "markdown",
   "id": "266580b4",
   "metadata": {},
   "source": [
    "# KNN Solution"
   ]
  },
  {
   "cell_type": "code",
   "execution_count": null,
   "id": "0c20776e",
   "metadata": {},
   "outputs": [],
   "source": [
    "from sklearn.neighbors import KNeighborsClassifier"
   ]
  },
  {
   "cell_type": "code",
   "execution_count": null,
   "id": "4a75277f",
   "metadata": {},
   "outputs": [],
   "source": [
    "best_k = find_best_k(5)\n",
    "best_k"
   ]
  },
  {
   "cell_type": "code",
   "execution_count": null,
   "id": "f277f808",
   "metadata": {},
   "outputs": [],
   "source": [
    "KNN = KNeighborsClassifier(n_neighbors=best_k)\n",
    "KNN.fit(X_train, y_train)"
   ]
  },
  {
   "cell_type": "code",
   "execution_count": null,
   "id": "f1e10a0e",
   "metadata": {},
   "outputs": [],
   "source": [
    "KNN_predict = KNN.predict(X_test)\n",
    "acc = accuracy_score(KNN_predict, y_test)\n",
    "accuracy('KNN')"
   ]
  },
  {
   "cell_type": "markdown",
   "id": "e9889598",
   "metadata": {},
   "source": [
    "# Bagging Classifier Solution "
   ]
  },
  {
   "cell_type": "code",
   "execution_count": null,
   "id": "6c25174a",
   "metadata": {},
   "outputs": [],
   "source": [
    "from sklearn.ensemble import BaggingClassifier"
   ]
  },
  {
   "cell_type": "code",
   "execution_count": null,
   "id": "51e944cd",
   "metadata": {},
   "outputs": [],
   "source": [
    "BG = BaggingClassifier(n_estimators=30)\n",
    "BG.fit(X_train, y_train)"
   ]
  },
  {
   "cell_type": "code",
   "execution_count": null,
   "id": "72f8c08e",
   "metadata": {},
   "outputs": [],
   "source": [
    "BG_predict = BG.predict(X_test)\n",
    "acc = accuracy_score(BG_predict, y_test)\n",
    "accuracy('BG')"
   ]
  }
 ],
 "metadata": {
  "kernelspec": {
   "display_name": "Python 3",
   "language": "python",
   "name": "python3"
  },
  "language_info": {
   "codemirror_mode": {
    "name": "ipython",
    "version": 3
   },
   "file_extension": ".py",
   "mimetype": "text/x-python",
   "name": "python",
   "nbconvert_exporter": "python",
   "pygments_lexer": "ipython3",
   "version": "3.9.4"
  }
 },
 "nbformat": 4,
 "nbformat_minor": 5
}
